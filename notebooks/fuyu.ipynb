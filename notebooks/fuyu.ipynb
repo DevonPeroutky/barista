{
 "cells": [
  {
   "cell_type": "code",
   "execution_count": 8,
   "id": "c83054d2-5033-413b-9776-efb0d2048419",
   "metadata": {},
   "outputs": [],
   "source": [
    "from transformers import FuyuProcessor, FuyuForCausalLM\n",
    "from PIL import Image\n",
    "import requests\n",
    "\n",
    "# load model and "
   ]
  },
  {
   "cell_type": "code",
   "execution_count": 11,
   "id": "1e1b9153-e5ec-4f65-b4eb-55d43e907fff",
   "metadata": {},
   "outputs": [
    {
     "ename": "NameError",
     "evalue": "name 'processor' is not defined",
     "output_type": "error",
     "traceback": [
      "\u001b[0;31m---------------------------------------------------------------------------\u001b[0m",
      "\u001b[0;31mNameError\u001b[0m                                 Traceback (most recent call last)",
      "Cell \u001b[0;32mIn[11], line 1\u001b[0m\n\u001b[0;32m----> 1\u001b[0m \u001b[38;5;28;01mdel\u001b[39;00m processor\n\u001b[1;32m      2\u001b[0m \u001b[38;5;28;01mdel\u001b[39;00m model\n\u001b[1;32m      3\u001b[0m \u001b[38;5;28;01mdel\u001b[39;00m inputs\n",
      "\u001b[0;31mNameError\u001b[0m: name 'processor' is not defined"
     ]
    }
   ],
   "source": [
    "del processor\n",
    "del model\n",
    "del inputs"
   ]
  },
  {
   "cell_type": "code",
   "execution_count": null,
   "id": "f42bf0cf-18b5-4f0a-ba26-eb6fef1bad53",
   "metadata": {},
   "outputs": [],
   "source": []
  }
 ],
 "metadata": {
  "kernelspec": {
   "display_name": "Python 3 (ipykernel)",
   "language": "python",
   "name": "python3"
  },
  "language_info": {
   "codemirror_mode": {
    "name": "ipython",
    "version": 3
   },
   "file_extension": ".py",
   "mimetype": "text/x-python",
   "name": "python",
   "nbconvert_exporter": "python",
   "pygments_lexer": "ipython3",
   "version": "3.9.6"
  }
 },
 "nbformat": 4,
 "nbformat_minor": 5
}
