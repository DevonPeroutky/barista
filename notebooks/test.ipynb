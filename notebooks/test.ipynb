{
 "cells": [
  {
   "cell_type": "code",
   "execution_count": 1,
   "id": "06922ad1-1e3b-4c75-9e20-bd72a9c20ad4",
   "metadata": {},
   "outputs": [],
   "source": [
    "import os\n",
    "import json"
   ]
  },
  {
   "cell_type": "code",
   "execution_count": 2,
   "id": "6ecbc353-36a3-433c-80e0-41eca29ed9ab",
   "metadata": {},
   "outputs": [],
   "source": [
    "dataset_types = [\"basic\", \"augmented\"]\n",
    "output_path = \"/home/devonperoutky/LLaVA/dataset\""
   ]
  },
  {
   "cell_type": "code",
   "execution_count": 15,
   "id": "ca357f8e-6869-4e39-bf1b-10461a28d6ab",
   "metadata": {},
   "outputs": [
    {
     "name": "stdout",
     "output_type": "stream",
     "text": [
      "/home/devonperoutky/LLaVA/dataset/basic/full_dataset.json\n",
      "Loaded 19798 existing image-caption pairs from /home/devonperoutky/LLaVA/dataset/basic/full_dataset.json\n",
      "15838\n",
      "1979\n",
      "1981\n",
      "Saving 15838 captions for prompt type basic to /home/devonperoutky/LLaVA/dataset/basic/train_dataset.json\n",
      "Saved 15838 image-caption pairs to /home/devonperoutky/LLaVA/dataset/basic/train_dataset.json\n",
      "Saving 1979 captions for prompt type basic to /home/devonperoutky/LLaVA/dataset/basic/test_dataset.json\n",
      "Saved 1979 image-caption pairs to /home/devonperoutky/LLaVA/dataset/basic/test_dataset.json\n",
      "Saving 1981 captions for prompt type basic to /home/devonperoutky/LLaVA/dataset/basic/validation_dataset.json\n",
      "Saved 1981 image-caption pairs to /home/devonperoutky/LLaVA/dataset/basic/validation_dataset.json\n",
      "/home/devonperoutky/LLaVA/dataset/augmented/full_dataset.json\n",
      "Loaded 19798 existing image-caption pairs from /home/devonperoutky/LLaVA/dataset/augmented/full_dataset.json\n",
      "15838\n",
      "1979\n",
      "1981\n",
      "Saving 15838 captions for prompt type augmented to /home/devonperoutky/LLaVA/dataset/augmented/train_dataset.json\n",
      "Saved 15838 image-caption pairs to /home/devonperoutky/LLaVA/dataset/augmented/train_dataset.json\n",
      "Saving 1979 captions for prompt type augmented to /home/devonperoutky/LLaVA/dataset/augmented/test_dataset.json\n",
      "Saved 1979 image-caption pairs to /home/devonperoutky/LLaVA/dataset/augmented/test_dataset.json\n",
      "Saving 1981 captions for prompt type augmented to /home/devonperoutky/LLaVA/dataset/augmented/validation_dataset.json\n",
      "Saved 1981 image-caption pairs to /home/devonperoutky/LLaVA/dataset/augmented/validation_dataset.json\n"
     ]
    }
   ],
   "source": [
    "for ds_type in dataset_types:\n",
    "    file_path = f'{output_path}/{ds_type}/full_dataset.json'\n",
    "    print(file_path)\n",
    "    if os.path.exists(file_path):\n",
    "        with open(file_path, 'r') as json_file:\n",
    "            full_ds = json.load(json_file)\n",
    "        print(f'Loaded {len(full_ds)} existing image-caption pairs from {file_path}')\n",
    "\n",
    "    train_percentage, test_percentage, validation_percentage = .8, .1, .1\n",
    "    assert train_percentage + test_percentage + validation_percentage == 1\n",
    "\n",
    "    train_size = int(train_percentage * len(full_ds))\n",
    "    test_size = int(test_percentage * len(full_ds))\n",
    "\n",
    "    train_split = full_ds[0:train_size]\n",
    "    test_split = full_ds[train_size:train_size + test_size]\n",
    "    validation_split = full_ds[train_size + test_size:]\n",
    "\n",
    "    print(len(train_split))\n",
    "    print(len(test_split))\n",
    "    print(len(validation_split))\n",
    "    # save_captions_to_dataset(os.path.join(output_path, ds_type, 'full_dataset.json'), full_ds, prompt_type)\n",
    "    save_captions_to_dataset(os.path.join(output_path, ds_type, 'train_dataset.json'), train_split, ds_type)\n",
    "    save_captions_to_dataset(os.path.join(output_path, ds_type, 'test_dataset.json'), test_split, ds_type)\n",
    "    save_captions_to_dataset(os.path.join(output_path, ds_type, 'validation_dataset.json'), validation_split, ds_type)"
   ]
  },
  {
   "cell_type": "code",
   "execution_count": null,
   "id": "aaaf167d-a09f-439b-9099-e34ab86ceadd",
   "metadata": {},
   "outputs": [],
   "source": []
  },
  {
   "cell_type": "code",
   "execution_count": 7,
   "id": "fa1324b1-f64b-4d95-9c4f-2d35cf9cd784",
   "metadata": {},
   "outputs": [],
   "source": [
    "def save_captions_to_dataset(dataset_path, dataset, prompt_type):\n",
    "    print(f'Saving {len(dataset)} captions for prompt type {prompt_type} to {dataset_path}')\n",
    "\n",
    "    # Save the new data to the dataset\n",
    "    with open(dataset_path, 'w') as json_file:\n",
    "        json.dump(dataset, json_file, indent=4)\n",
    "        print(f'Saved {len(dataset)} image-caption pairs to {dataset_path}')"
   ]
  },
  {
   "cell_type": "code",
   "execution_count": null,
   "id": "96c15557-044f-4113-8c27-f41b85e70b03",
   "metadata": {},
   "outputs": [],
   "source": []
  }
 ],
 "metadata": {
  "kernelspec": {
   "display_name": "Python 3 (ipykernel)",
   "language": "python",
   "name": "python3"
  },
  "language_info": {
   "codemirror_mode": {
    "name": "ipython",
    "version": 3
   },
   "file_extension": ".py",
   "mimetype": "text/x-python",
   "name": "python",
   "nbconvert_exporter": "python",
   "pygments_lexer": "ipython3",
   "version": "3.10.13"
  }
 },
 "nbformat": 4,
 "nbformat_minor": 5
}
