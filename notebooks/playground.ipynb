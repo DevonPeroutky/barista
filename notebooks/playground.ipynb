{
 "cells": [
  {
   "cell_type": "code",
   "execution_count": 1,
   "id": "10ece1da-2265-4d43-a730-2f47764925fc",
   "metadata": {},
   "outputs": [
    {
     "name": "stderr",
     "output_type": "stream",
     "text": [
      "/Users/devonperoutky/Library/Caches/pypoetry/virtualenvs/coffeebot-VpkmoPSH-py3.9/lib/python3.9/site-packages/urllib3/__init__.py:34: NotOpenSSLWarning: urllib3 v2 only supports OpenSSL 1.1.1+, currently the 'ssl' module is compiled with 'LibreSSL 2.8.3'. See: https://github.com/urllib3/urllib3/issues/3020\n",
      "  warnings.warn(\n"
     ]
    }
   ],
   "source": [
    "import praw\n",
    "import itertools\n",
    "from PIL import Image\n",
    "import re\n",
    "\n",
    "import requests\n",
    "import shutil\n",
    "\n",
    "import os"
   ]
  },
  {
   "cell_type": "code",
   "execution_count": 2,
   "id": "4390b12f-7906-4cf7-9860-9647800f1a86",
   "metadata": {},
   "outputs": [],
   "source": [
    "reddit_client = praw.Reddit(\n",
    "    client_id=\"D22i28j4wPE90ops_cOsFg\",\n",
    "    client_secret=\"9g3XJp40WOmqy_cBe_-9ZzEImj-iUw\",\n",
    "    user_agent=\"my user agent\",\n",
    ")"
   ]
  },
  {
   "cell_type": "code",
   "execution_count": 12,
   "id": "5e1bf41a-79f8-402d-b04e-852d29aabd02",
   "metadata": {},
   "outputs": [],
   "source": [
    "submissions = [s for s in reddit_client.subreddit(\"RoastMe\").hot(limit=2)]"
   ]
  },
  {
   "cell_type": "code",
   "execution_count": 17,
   "id": "6cfb3991-1c42-4cfe-9bc7-8e994f65f871",
   "metadata": {},
   "outputs": [],
   "source": [
    "submission, submission_gallery = submissions"
   ]
  },
  {
   "cell_type": "code",
   "execution_count": 19,
   "id": "28eacf1a-66f8-4d57-b488-f8e0e7393c5d",
   "metadata": {},
   "outputs": [
    {
     "data": {
      "text/plain": [
       "dict_keys(['zb5x2cviloec1', 'xe51075jloec1', 'knbirdgjloec1', 'iyq8rsmkloec1', 'gxg97dgiloec1', '17r83yxkloec1'])"
      ]
     },
     "execution_count": 19,
     "metadata": {},
     "output_type": "execute_result"
    }
   ],
   "source": [
    "submission_gallery.media_metadata.keys()"
   ]
  },
  {
   "cell_type": "code",
   "execution_count": 22,
   "id": "efec664a-4edc-4086-bdc9-bcba60eabb33",
   "metadata": {},
   "outputs": [
    {
     "data": {
      "text/plain": [
       "{'status': 'valid',\n",
       " 'e': 'Image',\n",
       " 'm': 'image/jpg',\n",
       " 'p': [{'y': 60,\n",
       "   'x': 108,\n",
       "   'u': 'https://preview.redd.it/zb5x2cviloec1.jpg?width=108&crop=smart&auto=webp&s=b4a00e244090c2c7be9b515e26818ba751e643dd'},\n",
       "  {'y': 121,\n",
       "   'x': 216,\n",
       "   'u': 'https://preview.redd.it/zb5x2cviloec1.jpg?width=216&crop=smart&auto=webp&s=d7b8c5f973b2c7472636041dbc3bf1aa77265b39'},\n",
       "  {'y': 179,\n",
       "   'x': 320,\n",
       "   'u': 'https://preview.redd.it/zb5x2cviloec1.jpg?width=320&crop=smart&auto=webp&s=9f14547e72b32c5ac4616a23037f78c62a71c7df'},\n",
       "  {'y': 359,\n",
       "   'x': 640,\n",
       "   'u': 'https://preview.redd.it/zb5x2cviloec1.jpg?width=640&crop=smart&auto=webp&s=bd14c07f217d38e2cdb2569c5aec4f3f1aaa05c6'},\n",
       "  {'y': 539,\n",
       "   'x': 960,\n",
       "   'u': 'https://preview.redd.it/zb5x2cviloec1.jpg?width=960&crop=smart&auto=webp&s=445446634033ade6dee12066ef7312b5500f6afb'},\n",
       "  {'y': 607,\n",
       "   'x': 1080,\n",
       "   'u': 'https://preview.redd.it/zb5x2cviloec1.jpg?width=1080&crop=smart&auto=webp&s=f886631875db29e0fc41c8ffc3556c403db9c7db'}],\n",
       " 's': {'y': 750,\n",
       "  'x': 1334,\n",
       "  'u': 'https://preview.redd.it/zb5x2cviloec1.jpg?width=1334&format=pjpg&auto=webp&s=9587425f3909ba51b93b68e034b06eb98504977a'},\n",
       " 'id': 'zb5x2cviloec1'}"
      ]
     },
     "execution_count": 22,
     "metadata": {},
     "output_type": "execute_result"
    }
   ],
   "source": [
    "submission_gallery.media_metadata['zb5x2cviloec1']"
   ]
  },
  {
   "cell_type": "code",
   "execution_count": 25,
   "id": "c1846831-b8f4-4523-89a4-f32743e094be",
   "metadata": {},
   "outputs": [
    {
     "data": {
      "text/plain": [
       "'https://preview.redd.it/gxg97dgiloec1.jpg?width=1334&format=pjpg&auto=webp&s=089c1e079a2934eb0cfb5165a58ce55c45e46252'"
      ]
     },
     "execution_count": 25,
     "metadata": {},
     "output_type": "execute_result"
    }
   ],
   "source": [
    "submission_gallery.media_metadata['gxg97dgiloec1']['s']['u']"
   ]
  },
  {
   "cell_type": "code",
   "execution_count": null,
   "id": "0344624d-1c87-4b8d-a390-91b576b0b963",
   "metadata": {},
   "outputs": [],
   "source": []
  }
 ],
 "metadata": {
  "kernelspec": {
   "display_name": "Python 3 (ipykernel)",
   "language": "python",
   "name": "python3"
  },
  "language_info": {
   "codemirror_mode": {
    "name": "ipython",
    "version": 3
   },
   "file_extension": ".py",
   "mimetype": "text/x-python",
   "name": "python",
   "nbconvert_exporter": "python",
   "pygments_lexer": "ipython3",
   "version": "3.9.6"
  }
 },
 "nbformat": 4,
 "nbformat_minor": 5
}
